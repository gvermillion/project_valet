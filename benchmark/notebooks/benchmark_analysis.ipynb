{
 "cells": [
  {
   "cell_type": "markdown",
   "metadata": {
    "toc": true
   },
   "source": [
    "<h1>Table of Contents<span class=\"tocSkip\"></span></h1>\n",
    "<div class=\"toc\"><ul class=\"toc-item\"><li><span><a href=\"#Import-Stuff\" data-toc-modified-id=\"Import-Stuff-1\"><span class=\"toc-item-num\">1&nbsp;&nbsp;</span>Import Stuff</a></span><ul class=\"toc-item\"><li><span><a href=\"#Prep-Data-for-Comparison\" data-toc-modified-id=\"Prep-Data-for-Comparison-1.1\"><span class=\"toc-item-num\">1.1&nbsp;&nbsp;</span>Prep Data for Comparison</a></span></li></ul></li><li><span><a href=\"#Compare-Results\" data-toc-modified-id=\"Compare-Results-2\"><span class=\"toc-item-num\">2&nbsp;&nbsp;</span>Compare Results</a></span><ul class=\"toc-item\"><li><span><a href=\"#Bandgap\" data-toc-modified-id=\"Bandgap-2.1\"><span class=\"toc-item-num\">2.1&nbsp;&nbsp;</span>Bandgap</a></span></li></ul></li></ul></div>"
   ]
  },
  {
   "cell_type": "markdown",
   "metadata": {},
   "source": [
    "# Import Stuff"
   ]
  },
  {
   "cell_type": "code",
   "execution_count": 14,
   "metadata": {},
   "outputs": [],
   "source": [
    "import pickle as pkl\n",
    "import numpy as np\n",
    "import matplotlib.pyplot as plt\n",
    "import pandas as pd\n",
    "import seaborn as sns\n",
    "sns.set(font_scale=1.5)\n"
   ]
  },
  {
   "cell_type": "code",
   "execution_count": 2,
   "metadata": {},
   "outputs": [],
   "source": [
    "valet_bs = [] #[pkl.load(open('../pickles/cp_bs_part_{}.pkl'.format(i),'rb')) for i in np.arange(46)]\n",
    "for i in np.arange(46):\n",
    "    pkl_file = open('../pickles/cp_bs_part_{}.pkl'.format(i),'rb')\n",
    "    for j in pkl.load(pkl_file):\n",
    "        valet_bs.append(j)\n",
    "orig_bs = pkl.load(open('../bench_set/pickles/matproj_bench_set_clean.pkl','rb'))\n"
   ]
  },
  {
   "cell_type": "markdown",
   "metadata": {},
   "source": [
    "## Prep Data for Comparison"
   ]
  },
  {
   "cell_type": "code",
   "execution_count": 3,
   "metadata": {},
   "outputs": [],
   "source": [
    "bs_index = [i['index'] for i in valet_bs]\n",
    "mp_bs = orig_bs.copy()\n",
    "mp_remove = [key for key in mp_bs.keys() if key not in bs_index]\n",
    "\n",
    "for key in mp_remove:\n",
    "    del mp_bs[key]\n",
    "\n",
    "\n",
    "mp_df = pd.DataFrame.from_dict(mp_bs,orient='index')\n",
    "mp_df.reset_index(inplace=True)\n",
    "\n",
    "qv_df = pd.DataFrame(valet_bs)\n",
    "qv_df = qv_df[qv_df.bandgap >= 0]\n",
    "qv_df.columns = ['bandgap_qv', 'bandgap_direct_qv', 'eos_errors', 'eos_fits', 'index','system', 'volume_vs_energy']\n",
    "\n",
    "\n",
    "combined_df = mp_df.merge(qv_df,on='index')\n"
   ]
  },
  {
   "cell_type": "markdown",
   "metadata": {},
   "source": [
    "# Compare Results\n",
    "\n",
    "## Bandgap"
   ]
  },
  {
   "cell_type": "code",
   "execution_count": null,
   "metadata": {},
   "outputs": [],
   "source": [
    "\n",
    "\n"
   ]
  },
  {
   "cell_type": "code",
   "execution_count": 4,
   "metadata": {},
   "outputs": [
    {
     "data": {
      "text/plain": [
       "<matplotlib.axes._subplots.AxesSubplot at 0x1a187a4ba8>"
      ]
     },
     "execution_count": 4,
     "metadata": {},
     "output_type": "execute_result"
    },
    {
     "data": {
      "image/png": "[encoded data removed]",
      "text/plain": [
       "<Figure size 648x432 with 1 Axes>"
      ]
     },
     "metadata": {
      "needs_background": "light"
     },
     "output_type": "display_data"
    }
   ],
   "source": [
    "test = combined_df[combined_df.bandgap_qv == combined_df.bandgap_direct_qv]\n",
    "fig = plt.figure(figsize=(9,6))\n",
    "ax = plt.gca()\n",
    "\n",
    "sns.scatterplot(x='bandgap_qv',y='bandgap',data=combined_df)"
   ]
  },
  {
   "cell_type": "code",
   "execution_count": 5,
   "metadata": {},
   "outputs": [
    {
     "data": {
      "text/html": [
       "<div>\n",
       "<style scoped>\n",
       "    .dataframe tbody tr th:only-of-type {\n",
       "        vertical-align: middle;\n",
       "    }\n",
       "\n",
       "    .dataframe tbody tr th {\n",
       "        vertical-align: top;\n",
       "    }\n",
       "\n",
       "    .dataframe thead th {\n",
       "        text-align: right;\n",
       "    }\n",
       "</style>\n",
       "<table border=\"1\" class=\"dataframe\">\n",
       "  <thead>\n",
       "    <tr style=\"text-align: right;\">\n",
       "      <th></th>\n",
       "      <th>index</th>\n",
       "      <th>structure_initial</th>\n",
       "      <th>structure_final</th>\n",
       "      <th>potcar</th>\n",
       "      <th>bandgap</th>\n",
       "      <th>bandgap_qv</th>\n",
       "      <th>bandgap_direct_qv</th>\n",
       "      <th>eos_errors</th>\n",
       "      <th>eos_fits</th>\n",
       "      <th>system</th>\n",
       "      <th>volume_vs_energy</th>\n",
       "      <th>mp_vol</th>\n",
       "      <th>qv_vol</th>\n",
       "    </tr>\n",
       "  </thead>\n",
       "  <tbody>\n",
       "    <tr>\n",
       "      <th>0</th>\n",
       "      <td>mp-1</td>\n",
       "      <td>(Atom('Cs', [0.0, 0.0, 0.0], magmom=0.0, index...</td>\n",
       "      <td>(Atom('Cs', [3.0266104319773843, -3.0806802534...</td>\n",
       "      <td>{'Cs': '_sv'}</td>\n",
       "      <td>0.0</td>\n",
       "      <td>0.0</td>\n",
       "      <td>0.0</td>\n",
       "      <td>None</td>\n",
       "      <td>{'pouriertarantola': {'energy': -0.85932106780...</td>\n",
       "      <td>(Atom('Cs', [0.0, 0.0, 0.0], magmom=0.0, index...</td>\n",
       "      <td>[[104.21489730785372, 105.17985006070417, 106....</td>\n",
       "      <td>114.041336</td>\n",
       "      <td>116.111876</td>\n",
       "    </tr>\n",
       "    <tr>\n",
       "      <th>1</th>\n",
       "      <td>mp-1020</td>\n",
       "      <td>(Atom('Rh', [0.0, 1.93, 1.93], magmom=0.0, ind...</td>\n",
       "      <td>(Atom('Rh', [0.0, 1.95221343, 1.95221343], mag...</td>\n",
       "      <td>{'Rh': '_pv', 'Ta': '_pv'}</td>\n",
       "      <td>0.0</td>\n",
       "      <td>0.0</td>\n",
       "      <td>0.0</td>\n",
       "      <td>None</td>\n",
       "      <td>{'pouriertarantola': {'energy': -36.3172032132...</td>\n",
       "      <td>(Atom('Rh', [0.0, 1.952512548509679, 1.9525125...</td>\n",
       "      <td>[[51.761210399999975, 52.240480866666665, 52.7...</td>\n",
       "      <td>59.521227</td>\n",
       "      <td>59.548591</td>\n",
       "    </tr>\n",
       "    <tr>\n",
       "      <th>2</th>\n",
       "      <td>mp-1031</td>\n",
       "      <td>(Atom('Cd', [0.0, 0.0, 0.0], magmom=0.0, index...</td>\n",
       "      <td>(Atom('Gd', [1.88608472, 1.88608472, 1.8860847...</td>\n",
       "      <td>{'Cd': '', 'Gd': ''}</td>\n",
       "      <td>0.0</td>\n",
       "      <td>0.0</td>\n",
       "      <td>0.0</td>\n",
       "      <td>[antonschmidt]</td>\n",
       "      <td>{'pouriertarantola': {'energy': -11.8625369598...</td>\n",
       "      <td>(Atom('Cd', [0.0, 0.0, 0.0], magmom=0.0, index...</td>\n",
       "      <td>[[47.46093749999999, 47.90039062499997, 48.339...</td>\n",
       "      <td>53.675188</td>\n",
       "      <td>58.286923</td>\n",
       "    </tr>\n",
       "    <tr>\n",
       "      <th>3</th>\n",
       "      <td>mp-1033</td>\n",
       "      <td>(Atom('Be', [0.0, 0.0, 0.0], magmom=0.0, index...</td>\n",
       "      <td>(Atom('Be', [0.0, 0.0, 0.0], magmom=0.0, index...</td>\n",
       "      <td>{'Be': '_sv', 'Ni': '_pv'}</td>\n",
       "      <td>0.0</td>\n",
       "      <td>0.0</td>\n",
       "      <td>0.0</td>\n",
       "      <td>None</td>\n",
       "      <td>{'pouriertarantola': {'energy': -10.4817534621...</td>\n",
       "      <td>(Atom('Be', [0.0, 0.0, 0.0], magmom=0.0, index...</td>\n",
       "      <td>[[16.279101562500003, 16.429833984374994, 16.5...</td>\n",
       "      <td>17.679898</td>\n",
       "      <td>17.848385</td>\n",
       "    </tr>\n",
       "    <tr>\n",
       "      <th>4</th>\n",
       "      <td>mp-1053</td>\n",
       "      <td>(Atom('Zn', [1.8345, 1.8345, 1.8345], magmom=0...</td>\n",
       "      <td>(Atom('Zn', [1.843168155, 1.843168155, 1.84316...</td>\n",
       "      <td>{'Zn': '', 'Nd': '_3'}</td>\n",
       "      <td>0.0</td>\n",
       "      <td>0.0</td>\n",
       "      <td>0.0</td>\n",
       "      <td>None</td>\n",
       "      <td>{'p3': {'energy': -6.662929801545069, 'volume'...</td>\n",
       "      <td>(Atom('Zn', [1.839922993738159, 1.839922993738...</td>\n",
       "      <td>[[44.45142057810001, 44.863007805675, 45.27459...</td>\n",
       "      <td>50.093902</td>\n",
       "      <td>49.829775</td>\n",
       "    </tr>\n",
       "  </tbody>\n",
       "</table>\n",
       "</div>"
      ],
      "text/plain": [
       "     index                                  structure_initial  \\\n",
       "0     mp-1  (Atom('Cs', [0.0, 0.0, 0.0], magmom=0.0, index...   \n",
       "1  mp-1020  (Atom('Rh', [0.0, 1.93, 1.93], magmom=0.0, ind...   \n",
       "2  mp-1031  (Atom('Cd', [0.0, 0.0, 0.0], magmom=0.0, index...   \n",
       "3  mp-1033  (Atom('Be', [0.0, 0.0, 0.0], magmom=0.0, index...   \n",
       "4  mp-1053  (Atom('Zn', [1.8345, 1.8345, 1.8345], magmom=0...   \n",
       "\n",
       "                                     structure_final  \\\n",
       "0  (Atom('Cs', [3.0266104319773843, -3.0806802534...   \n",
       "1  (Atom('Rh', [0.0, 1.95221343, 1.95221343], mag...   \n",
       "2  (Atom('Gd', [1.88608472, 1.88608472, 1.8860847...   \n",
       "3  (Atom('Be', [0.0, 0.0, 0.0], magmom=0.0, index...   \n",
       "4  (Atom('Zn', [1.843168155, 1.843168155, 1.84316...   \n",
       "\n",
       "                       potcar  bandgap  bandgap_qv  bandgap_direct_qv  \\\n",
       "0               {'Cs': '_sv'}      0.0         0.0                0.0   \n",
       "1  {'Rh': '_pv', 'Ta': '_pv'}      0.0         0.0                0.0   \n",
       "2        {'Cd': '', 'Gd': ''}      0.0         0.0                0.0   \n",
       "3  {'Be': '_sv', 'Ni': '_pv'}      0.0         0.0                0.0   \n",
       "4      {'Zn': '', 'Nd': '_3'}      0.0         0.0                0.0   \n",
       "\n",
       "       eos_errors                                           eos_fits  \\\n",
       "0            None  {'pouriertarantola': {'energy': -0.85932106780...   \n",
       "1            None  {'pouriertarantola': {'energy': -36.3172032132...   \n",
       "2  [antonschmidt]  {'pouriertarantola': {'energy': -11.8625369598...   \n",
       "3            None  {'pouriertarantola': {'energy': -10.4817534621...   \n",
       "4            None  {'p3': {'energy': -6.662929801545069, 'volume'...   \n",
       "\n",
       "                                              system  \\\n",
       "0  (Atom('Cs', [0.0, 0.0, 0.0], magmom=0.0, index...   \n",
       "1  (Atom('Rh', [0.0, 1.952512548509679, 1.9525125...   \n",
       "2  (Atom('Cd', [0.0, 0.0, 0.0], magmom=0.0, index...   \n",
       "3  (Atom('Be', [0.0, 0.0, 0.0], magmom=0.0, index...   \n",
       "4  (Atom('Zn', [1.839922993738159, 1.839922993738...   \n",
       "\n",
       "                                    volume_vs_energy      mp_vol      qv_vol  \n",
       "0  [[104.21489730785372, 105.17985006070417, 106....  114.041336  116.111876  \n",
       "1  [[51.761210399999975, 52.240480866666665, 52.7...   59.521227   59.548591  \n",
       "2  [[47.46093749999999, 47.90039062499997, 48.339...   53.675188   58.286923  \n",
       "3  [[16.279101562500003, 16.429833984374994, 16.5...   17.679898   17.848385  \n",
       "4  [[44.45142057810001, 44.863007805675, 45.27459...   50.093902   49.829775  "
      ]
     },
     "execution_count": 5,
     "metadata": {},
     "output_type": "execute_result"
    }
   ],
   "source": [
    "combined_df['mp_vol'] = combined_df.structure_final.apply(lambda x: x.get_volume())\n",
    "combined_df['qv_vol'] = combined_df.system.apply(lambda x: x.get_volume())\n",
    "combined_df.head()"
   ]
  },
  {
   "cell_type": "code",
   "execution_count": 15,
   "metadata": {
    "scrolled": true
   },
   "outputs": [
    {
     "data": {
      "text/plain": [
       "[Text(0, 0.5, 'MatProj Volume [cu. Ang]'),\n",
       " Text(0.5, 0, 'Quantum Valet Volume [cu. Ang]')]"
      ]
     },
     "execution_count": 15,
     "metadata": {},
     "output_type": "execute_result"
    },
    {
     "data": {
      "image/png": "[encoded data removed]",
      "text/plain": [
       "<Figure size 864x576 with 1 Axes>"
      ]
     },
     "metadata": {},
     "output_type": "display_data"
    }
   ],
   "source": [
    "fig = plt.figure(figsize=(12,8))\n",
    "ax = plt.gca()\n",
    "x = np.linspace(0.,600,1000)\n",
    "sns.scatterplot(x='qv_vol',y='mp_vol',data=combined_df,ax=ax)\n",
    "ax.plot(x,x)\n",
    "ax.set(xlabel='Quantum Valet Volume [cu. Ang]',ylabel='MatProj Volume [cu. Ang]')"
   ]
  },
  {
   "cell_type": "code",
   "execution_count": null,
   "metadata": {},
   "outputs": [],
   "source": []
  }
 ],
 "metadata": {
  "kernelspec": {
   "display_name": "Python 3",
   "language": "python",
   "name": "python3"
  },
  "language_info": {
   "codemirror_mode": {
    "name": "ipython",
    "version": 3
   },
   "file_extension": ".py",
   "mimetype": "text/x-python",
   "name": "python",
   "nbconvert_exporter": "python",
   "pygments_lexer": "ipython3",
   "version": "3.7.3"
  },
  "toc": {
   "base_numbering": 1,
   "nav_menu": {},
   "number_sections": true,
   "sideBar": true,
   "skip_h1_title": false,
   "title_cell": "Table of Contents",
   "title_sidebar": "Contents",
   "toc_cell": true,
   "toc_position": {},
   "toc_section_display": true,
   "toc_window_display": true
  }
 },
 "nbformat": 4,
 "nbformat_minor": 2
}
