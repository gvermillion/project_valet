{
 "cells": [
  {
   "cell_type": "markdown",
   "metadata": {
    "toc": true
   },
   "source": [
    "<h1>Table of Contents<span class=\"tocSkip\"></span></h1>\n",
    "<div class=\"toc\"><ul class=\"toc-item\"><li><span><a href=\"#Import-Stuff\" data-toc-modified-id=\"Import-Stuff-1\"><span class=\"toc-item-num\">1&nbsp;&nbsp;</span>Import Stuff</a></span><ul class=\"toc-item\"><li><span><a href=\"#Prep-Data-for-Comparison\" data-toc-modified-id=\"Prep-Data-for-Comparison-1.1\"><span class=\"toc-item-num\">1.1&nbsp;&nbsp;</span>Prep Data for Comparison</a></span></li></ul></li><li><span><a href=\"#Compare-Results\" data-toc-modified-id=\"Compare-Results-2\"><span class=\"toc-item-num\">2&nbsp;&nbsp;</span>Compare Results</a></span><ul class=\"toc-item\"><li><span><a href=\"#Bandgap\" data-toc-modified-id=\"Bandgap-2.1\"><span class=\"toc-item-num\">2.1&nbsp;&nbsp;</span>Bandgap</a></span></li></ul></li></ul></div>"
   ]
  },
  {
   "cell_type": "markdown",
   "metadata": {},
   "source": [
    "# Import Stuff"
   ]
  },
  {
   "cell_type": "code",
   "execution_count": 5,
   "metadata": {},
   "outputs": [],
   "source": [
    "import pickle as pkl\n",
    "import numpy as np\n",
    "import matplotlib.pyplot as plt\n",
    "import pandas as pd\n",
    "import seaborn as sns"
   ]
  },
  {
   "cell_type": "code",
   "execution_count": 2,
   "metadata": {},
   "outputs": [],
   "source": [
    "valet_bs = [] #[pkl.load(open('../pickles/cp_bs_part_{}.pkl'.format(i),'rb')) for i in np.arange(46)]\n",
    "for i in np.arange(46):\n",
    "    pkl_file = open('../pickles/cp_bs_part_{}.pkl'.format(i),'rb')\n",
    "    for j in pkl.load(pkl_file):\n",
    "        valet_bs.append(j)\n",
    "orig_bs = pkl.load(open('../bench_set/pickles/matproj_bench_set_clean.pkl','rb'))\n"
   ]
  },
  {
   "cell_type": "markdown",
   "metadata": {},
   "source": [
    "## Prep Data for Comparison"
   ]
  },
  {
   "cell_type": "code",
   "execution_count": 3,
   "metadata": {},
   "outputs": [],
   "source": [
    "bs_index = [i['index'] for i in valet_bs]\n",
    "mp_bs = orig_bs.copy()\n",
    "mp_remove = [key for key in mp_bs.keys() if key not in bs_index]\n",
    "\n",
    "for key in mp_remove:\n",
    "    del mp_bs[key]\n",
    "\n",
    "\n",
    "mp_df = pd.DataFrame.from_dict(mp_bs,orient='index')\n",
    "mp_df.reset_index(inplace=True)\n",
    "\n",
    "qv_df = pd.DataFrame(valet_bs)\n",
    "qv_df = qv_df[qv_df.bandgap >= 0]\n",
    "qv_df.columns = ['bandgap_qv', 'bandgap_direct_qv', 'eos_errors', 'eos_fits', 'index','system', 'volume_vs_energy']\n",
    "\n",
    "\n",
    "combined_df = mp_df.merge(qv_df,on='index')\n"
   ]
  },
  {
   "cell_type": "markdown",
   "metadata": {},
   "source": [
    "# Compare Results\n",
    "\n",
    "## Bandgap"
   ]
  },
  {
   "cell_type": "code",
   "execution_count": null,
   "metadata": {},
   "outputs": [],
   "source": [
    "\n",
    "\n"
   ]
  },
  {
   "cell_type": "code",
   "execution_count": 15,
   "metadata": {},
   "outputs": [
    {
     "data": {
      "text/plain": [
       "<matplotlib.axes._subplots.AxesSubplot at 0x1a208c3828>"
      ]
     },
     "execution_count": 15,
     "metadata": {},
     "output_type": "execute_result"
    },
    {
     "data": {
      "image/png": "[encoded data removed]",
      "text/plain": [
       "<Figure size 648x432 with 1 Axes>"
      ]
     },
     "metadata": {
      "needs_background": "light"
     },
     "output_type": "display_data"
    }
   ],
   "source": [
    "test = combined_df[combined_df.bandgap_qv == combined_df.bandgap_direct_qv]\n",
    "fig = plt.figure(figsize=(9,6))\n",
    "ax = plt.gca()\n",
    "\n",
    "sns.scatterplot(x='bandgap_qv',y='bandgap',data=combined_df)"
   ]
  },
  {
   "cell_type": "code",
   "execution_count": null,
   "metadata": {},
   "outputs": [],
   "source": []
  }
 ],
 "metadata": {
  "kernelspec": {
   "display_name": "Python 3",
   "language": "python",
   "name": "python3"
  },
  "language_info": {
   "codemirror_mode": {
    "name": "ipython",
    "version": 3
   },
   "file_extension": ".py",
   "mimetype": "text/x-python",
   "name": "python",
   "nbconvert_exporter": "python",
   "pygments_lexer": "ipython3",
   "version": "3.7.3"
  },
  "toc": {
   "base_numbering": 1,
   "nav_menu": {},
   "number_sections": true,
   "sideBar": true,
   "skip_h1_title": false,
   "title_cell": "Table of Contents",
   "title_sidebar": "Contents",
   "toc_cell": true,
   "toc_position": {},
   "toc_section_display": true,
   "toc_window_display": true
  }
 },
 "nbformat": 4,
 "nbformat_minor": 2
}
