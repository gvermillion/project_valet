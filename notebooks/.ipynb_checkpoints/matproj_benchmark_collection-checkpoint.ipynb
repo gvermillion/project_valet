{
 "cells": [
  {
   "cell_type": "markdown",
   "metadata": {
    "toc": true
   },
   "source": [
    "<h1>Table of Contents<span class=\"tocSkip\"></span></h1>\n",
    "<div class=\"toc\"><ul class=\"toc-item\"><li><span><a href=\"#Imports\" data-toc-modified-id=\"Imports-1\"><span class=\"toc-item-num\">1&nbsp;&nbsp;</span>Imports</a></span></li><li><span><a href=\"#Trial-Requests\" data-toc-modified-id=\"Trial-Requests-2\"><span class=\"toc-item-num\">2&nbsp;&nbsp;</span>Trial Requests</a></span><ul class=\"toc-item\"><li><span><a href=\"#General-Request\" data-toc-modified-id=\"General-Request-2.1\"><span class=\"toc-item-num\">2.1&nbsp;&nbsp;</span>General Request</a></span></li><li><span><a href=\"#Getting-Structure\" data-toc-modified-id=\"Getting-Structure-2.2\"><span class=\"toc-item-num\">2.2&nbsp;&nbsp;</span>Getting Structure</a></span><ul class=\"toc-item\"><li><span><a href=\"#Request-Data\" data-toc-modified-id=\"Request-Data-2.2.1\"><span class=\"toc-item-num\">2.2.1&nbsp;&nbsp;</span>Request Data</a></span></li><li><span><a href=\"#Extract-Structural-Info-and-Build-ASE-Atoms-Object\" data-toc-modified-id=\"Extract-Structural-Info-and-Build-ASE-Atoms-Object-2.2.2\"><span class=\"toc-item-num\">2.2.2&nbsp;&nbsp;</span>Extract Structural Info and Build ASE Atoms Object</a></span></li><li><span><a href=\"#Add-Atoms\" data-toc-modified-id=\"Add-Atoms-2.2.3\"><span class=\"toc-item-num\">2.2.3&nbsp;&nbsp;</span>Add Atoms</a></span></li><li><span><a href=\"#Get-INCAR-Parameters\" data-toc-modified-id=\"Get-INCAR-Parameters-2.2.4\"><span class=\"toc-item-num\">2.2.4&nbsp;&nbsp;</span>Get INCAR Parameters</a></span></li></ul></li></ul></li></ul></div>"
   ]
  },
  {
   "cell_type": "markdown",
   "metadata": {},
   "source": [
    "# Imports"
   ]
  },
  {
   "cell_type": "code",
   "execution_count": 50,
   "metadata": {},
   "outputs": [],
   "source": [
    "import requests, ase"
   ]
  },
  {
   "cell_type": "markdown",
   "metadata": {},
   "source": [
    "# Trial Requests\n",
    "\n",
    "## General Request"
   ]
  },
  {
   "cell_type": "code",
   "execution_count": 29,
   "metadata": {},
   "outputs": [],
   "source": [
    "url = (\n",
    "'https://www.materialsproject.org/rest/v2/materials/mp-1234/vasp?API_KEY=rNLdA4JmwdI5kSuHHr1r'\n",
    ")\n",
    "response = requests.get(url)\n",
    "data = response.json()['response'][0] # Unpack the data directly"
   ]
  },
  {
   "cell_type": "code",
   "execution_count": 30,
   "metadata": {},
   "outputs": [],
   "source": [
    "energy = data['energy']\n",
    "bandgap = data['band_gap']"
   ]
  },
  {
   "cell_type": "markdown",
   "metadata": {},
   "source": [
    "## Getting Structure"
   ]
  },
  {
   "cell_type": "markdown",
   "metadata": {},
   "source": [
    "### Request Data"
   ]
  },
  {
   "cell_type": "code",
   "execution_count": 115,
   "metadata": {},
   "outputs": [],
   "source": [
    "url = ( \n",
    "'https://www.materialsproject.org/rest/v1/materials/mp-804/vasp/structure?API_KEY=rNLdA4JmwdI5kSuHHr1r'\n",
    ")\n",
    "response = requests.get(url)\n",
    "data = response.json()['response'][0]"
   ]
  },
  {
   "cell_type": "markdown",
   "metadata": {},
   "source": [
    "### Extract Structural Info and Build ASE Atoms Object"
   ]
  },
  {
   "cell_type": "code",
   "execution_count": 116,
   "metadata": {
    "scrolled": true
   },
   "outputs": [],
   "source": [
    "structure = data['structure']\n",
    "cell = structure['lattice']\n",
    "cell\n",
    "a = cell['a']\n",
    "b = cell['b']\n",
    "c = cell['c']\n",
    "alpha = cell['alpha']\n",
    "beta = cell['beta']\n",
    "gamma = cell['gamma']\n",
    "volume = cell['volume']"
   ]
  },
  {
   "cell_type": "code",
   "execution_count": 117,
   "metadata": {},
   "outputs": [],
   "source": [
    "system = ase.Atoms()\n",
    "system.set_cell([a,b,c,alpha,beta,gamma])"
   ]
  },
  {
   "cell_type": "markdown",
   "metadata": {},
   "source": [
    "### Add Atoms"
   ]
  },
  {
   "cell_type": "code",
   "execution_count": 118,
   "metadata": {},
   "outputs": [],
   "source": [
    "sites = structure['sites']\n",
    "\n",
    "for site in sites:\n",
    "    species = site['label']\n",
    "    pos = site['xyz']\n",
    "    magmom = site['properties']['magmom']\n",
    "    system.append(ase.Atom(species,pos,magmom=magmom))\n"
   ]
  },
  {
   "cell_type": "code",
   "execution_count": 120,
   "metadata": {},
   "outputs": [
    {
     "data": {
      "text/plain": [
       "{'material_id': 'mp-804',\n",
       " 'structure': {'@module': 'pymatgen.core.structure',\n",
       "  '@class': 'Structure',\n",
       "  'charge': None,\n",
       "  'lattice': {'matrix': [[3.21629013, 0.0, 0.0],\n",
       "    [-1.60814507, 2.78538896, 0.0],\n",
       "    [0.0, 0.0, 5.23996246]],\n",
       "   'a': 3.21629013,\n",
       "   'b': 3.2162901337807175,\n",
       "   'c': 5.23996246,\n",
       "   'alpha': 90.0,\n",
       "   'beta': 90.0,\n",
       "   'gamma': 120.00000006396569,\n",
       "   'volume': 46.94282735959896},\n",
       "  'sites': [{'species': [{'element': 'N', 'occu': 1}],\n",
       "    'abc': [0.66666667, 0.33333333, 0.87588001],\n",
       "    'xyz': [1.6081450794147842, 0.9284629773820368, 4.589578371864425],\n",
       "    'label': 'N',\n",
       "    'properties': {'magmom': 0.0}},\n",
       "   {'species': [{'element': 'N', 'occu': 1}],\n",
       "    'abc': [0.33333333, 0.66666667, 0.37588001],\n",
       "    'xyz': [-1.9414784002691476e-08, 1.8569259826179634, 1.9695971418644245],\n",
       "    'label': 'N',\n",
       "    'properties': {'magmom': 0.0}},\n",
       "   {'species': [{'element': 'Ga', 'occu': 1}],\n",
       "    'abc': [0.66666667, 0.33333333, 0.49911999],\n",
       "    'xyz': [1.6081450794147842, 0.9284629773820368, 2.6153700106355755],\n",
       "    'label': 'Ga',\n",
       "    'properties': {'magmom': -0.001}},\n",
       "   {'species': [{'element': 'Ga', 'occu': 1}],\n",
       "    'abc': [0.33333333, 0.66666667, 0.99911999],\n",
       "    'xyz': [-1.9414784002691476e-08, 1.8569259826179634, 5.235351240635575],\n",
       "    'label': 'Ga',\n",
       "    'properties': {'magmom': -0.001}}]}}"
      ]
     },
     "execution_count": 120,
     "metadata": {},
     "output_type": "execute_result"
    }
   ],
   "source": [
    "data"
   ]
  },
  {
   "cell_type": "markdown",
   "metadata": {},
   "source": [
    "### Get INCAR Parameters"
   ]
  },
  {
   "cell_type": "code",
   "execution_count": 124,
   "metadata": {},
   "outputs": [],
   "source": [
    "url = ( \n",
    "'https://www.materialsproject.org/rest/v2/tasks/mp-804/incar?API_KEY=rNLdA4JmwdI5kSuHHr1r'\n",
    ")\n",
    "response = requests.get(url)\n",
    "data = response.json()['response'][0]"
   ]
  },
  {
   "cell_type": "code",
   "execution_count": 130,
   "metadata": {
    "scrolled": false
   },
   "outputs": [
    {
     "data": {
      "text/plain": [
       "{'SYSTEM': 'RubyVaspy :: N Ga',\n",
       " 'PREC': 'accurate',\n",
       " 'ALGO': 'FAST',\n",
       " 'ISPIN': 2,\n",
       " 'ICHARG': 1,\n",
       " 'NELM': 100,\n",
       " 'NELMIN': 3,\n",
       " 'IBRION': 2,\n",
       " 'EDIFF': 2e-06,\n",
       " 'NSW': 200,\n",
       " 'ISIF': 3,\n",
       " 'ENCUT': 520.0,\n",
       " 'MAGMOM': [0.6, 0.6, 0.6, 0.6],\n",
       " 'LREAL': 'AUTO',\n",
       " 'ISMEAR': -5,\n",
       " 'SIGMA': 0.05,\n",
       " 'LWAVE': True,\n",
       " 'LPEAD': False,\n",
       " 'LCALCPOL': False,\n",
       " 'LCALCEPS': False,\n",
       " 'EFIELD_PEAD': [0.0, 0.0, 0.0],\n",
       " 'LEFG': False}"
      ]
     },
     "execution_count": 130,
     "metadata": {},
     "output_type": "execute_result"
    }
   ],
   "source": [
    "incar = data['incar']\n",
    "incar"
   ]
  },
  {
   "cell_type": "code",
   "execution_count": 128,
   "metadata": {},
   "outputs": [],
   "source": [
    "from ase.calculators.vasp import Vasp2\n",
    "calc = Vasp2()"
   ]
  },
  {
   "cell_type": "code",
   "execution_count": 132,
   "metadata": {},
   "outputs": [],
   "source": [
    "calc.dict_params = incar"
   ]
  },
  {
   "cell_type": "code",
   "execution_count": 134,
   "metadata": {},
   "outputs": [
    {
     "data": {
      "text/plain": [
       "{'SYSTEM': 'RubyVaspy :: N Ga',\n",
       " 'PREC': 'accurate',\n",
       " 'ALGO': 'FAST',\n",
       " 'ISPIN': 2,\n",
       " 'ICHARG': 1,\n",
       " 'NELM': 100,\n",
       " 'NELMIN': 3,\n",
       " 'IBRION': 2,\n",
       " 'EDIFF': 2e-06,\n",
       " 'NSW': 200,\n",
       " 'ISIF': 3,\n",
       " 'ENCUT': 520.0,\n",
       " 'MAGMOM': [0.6, 0.6, 0.6, 0.6],\n",
       " 'LREAL': 'AUTO',\n",
       " 'ISMEAR': -5,\n",
       " 'SIGMA': 0.05,\n",
       " 'LWAVE': True,\n",
       " 'LPEAD': False,\n",
       " 'LCALCPOL': False,\n",
       " 'LCALCEPS': False,\n",
       " 'EFIELD_PEAD': [0.0, 0.0, 0.0],\n",
       " 'LEFG': False}"
      ]
     },
     "execution_count": 134,
     "metadata": {},
     "output_type": "execute_result"
    }
   ],
   "source": []
  },
  {
   "cell_type": "code",
   "execution_count": null,
   "metadata": {},
   "outputs": [],
   "source": []
  }
 ],
 "metadata": {
  "kernelspec": {
   "display_name": "Python 3",
   "language": "python",
   "name": "python3"
  },
  "language_info": {
   "codemirror_mode": {
    "name": "ipython",
    "version": 3
   },
   "file_extension": ".py",
   "mimetype": "text/x-python",
   "name": "python",
   "nbconvert_exporter": "python",
   "pygments_lexer": "ipython3",
   "version": "3.7.3"
  },
  "toc": {
   "base_numbering": 1,
   "nav_menu": {},
   "number_sections": true,
   "sideBar": true,
   "skip_h1_title": false,
   "title_cell": "Table of Contents",
   "title_sidebar": "Contents",
   "toc_cell": true,
   "toc_position": {},
   "toc_section_display": true,
   "toc_window_display": true
  }
 },
 "nbformat": 4,
 "nbformat_minor": 2
}
