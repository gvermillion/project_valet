{
 "cells": [
  {
   "cell_type": "markdown",
   "metadata": {
    "toc": true
   },
   "source": [
    "<h1>Table of Contents<span class=\"tocSkip\"></span></h1>\n",
    "<div class=\"toc\"><ul class=\"toc-item\"><li><span><a href=\"#Imports\" data-toc-modified-id=\"Imports-1\"><span class=\"toc-item-num\">1&nbsp;&nbsp;</span>Imports</a></span></li><li><span><a href=\"#Trial-Requests\" data-toc-modified-id=\"Trial-Requests-2\"><span class=\"toc-item-num\">2&nbsp;&nbsp;</span>Trial Requests</a></span><ul class=\"toc-item\"><li><span><a href=\"#General-Request\" data-toc-modified-id=\"General-Request-2.1\"><span class=\"toc-item-num\">2.1&nbsp;&nbsp;</span>General Request</a></span></li><li><span><a href=\"#Getting-Structure\" data-toc-modified-id=\"Getting-Structure-2.2\"><span class=\"toc-item-num\">2.2&nbsp;&nbsp;</span>Getting Structure</a></span><ul class=\"toc-item\"><li><span><a href=\"#Request-Data\" data-toc-modified-id=\"Request-Data-2.2.1\"><span class=\"toc-item-num\">2.2.1&nbsp;&nbsp;</span>Request Data</a></span></li><li><span><a href=\"#Extract-Structural-Info-and-Build-ASE-Atoms-Object\" data-toc-modified-id=\"Extract-Structural-Info-and-Build-ASE-Atoms-Object-2.2.2\"><span class=\"toc-item-num\">2.2.2&nbsp;&nbsp;</span>Extract Structural Info and Build ASE Atoms Object</a></span></li><li><span><a href=\"#Add-Atoms\" data-toc-modified-id=\"Add-Atoms-2.2.3\"><span class=\"toc-item-num\">2.2.3&nbsp;&nbsp;</span>Add Atoms</a></span></li><li><span><a href=\"#Get-POTCAR-Parameters\" data-toc-modified-id=\"Get-POTCAR-Parameters-2.2.4\"><span class=\"toc-item-num\">2.2.4&nbsp;&nbsp;</span>Get POTCAR Parameters</a></span></li></ul></li></ul></li><li><span><a href=\"#Functions\" data-toc-modified-id=\"Functions-3\"><span class=\"toc-item-num\">3&nbsp;&nbsp;</span>Functions</a></span></li><li><span><a href=\"#Collect-Bench-Set\" data-toc-modified-id=\"Collect-Bench-Set-4\"><span class=\"toc-item-num\">4&nbsp;&nbsp;</span>Collect Bench Set</a></span></li></ul></div>"
   ]
  },
  {
   "cell_type": "markdown",
   "metadata": {},
   "source": [
    "# Imports"
   ]
  },
  {
   "cell_type": "code",
   "execution_count": 1,
   "metadata": {},
   "outputs": [],
   "source": [
    "import requests, ase\n",
    "import numpy as np"
   ]
  },
  {
   "cell_type": "markdown",
   "metadata": {},
   "source": [
    "# Trial Requests\n",
    "\n",
    "## General Request"
   ]
  },
  {
   "cell_type": "code",
   "execution_count": null,
   "metadata": {},
   "outputs": [],
   "source": [
    "url = (\n",
    "'https://www.materialsproject.org/rest/v2/materials/mp-1234/vasp?API_KEY=rNLdA4JmwdI5kSuHHr1r'\n",
    ")\n",
    "response = requests.get(url)\n",
    "data = response.json()['response'][0] # Unpack the data directly"
   ]
  },
  {
   "cell_type": "code",
   "execution_count": null,
   "metadata": {},
   "outputs": [],
   "source": [
    "energy = data['energy']\n",
    "bandgap = data['band_gap']"
   ]
  },
  {
   "cell_type": "markdown",
   "metadata": {},
   "source": [
    "## Getting Structure"
   ]
  },
  {
   "cell_type": "markdown",
   "metadata": {},
   "source": [
    "### Request Data"
   ]
  },
  {
   "cell_type": "code",
   "execution_count": 6,
   "metadata": {},
   "outputs": [],
   "source": [
    "url = ( \n",
    "'https://www.materialsproject.org/rest/v2/materials/mp-804/vasp/final_structure?API_KEY=rNLdA4JmwdI5kSuHHr1r'\n",
    ")\n",
    "response = requests.get(url)\n",
    "data = response.json()['response'][0]\n"
   ]
  },
  {
   "cell_type": "markdown",
   "metadata": {},
   "source": [
    "### Extract Structural Info and Build ASE Atoms Object"
   ]
  },
  {
   "cell_type": "code",
   "execution_count": 7,
   "metadata": {},
   "outputs": [],
   "source": [
    "structure = data['final_structure']\n",
    "cell = structure['lattice']\n",
    "cell\n",
    "a = cell['a']\n",
    "b = cell['b']\n",
    "c = cell['c']\n",
    "alpha = cell['alpha']\n",
    "beta = cell['beta']\n",
    "gamma = cell['gamma']\n",
    "volume = cell['volume']\n",
    "\n",
    "system = ase.Atoms()\n",
    "system.set_cell([a,b,c,alpha,beta,gamma])"
   ]
  },
  {
   "cell_type": "markdown",
   "metadata": {},
   "source": [
    "### Add Atoms"
   ]
  },
  {
   "cell_type": "code",
   "execution_count": null,
   "metadata": {},
   "outputs": [],
   "source": [
    "sites = structure['sites']\n",
    "\n",
    "for site in sites:\n",
    "    species = site['label']\n",
    "    pos = site['xyz']\n",
    "    magmom = site['properties']['magmom']\n",
    "    system.append(ase.Atom(species,pos,magmom=magmom))\n"
   ]
  },
  {
   "cell_type": "markdown",
   "metadata": {},
   "source": [
    "### Get POTCAR Parameters"
   ]
  },
  {
   "cell_type": "code",
   "execution_count": null,
   "metadata": {},
   "outputs": [],
   "source": [
    "url = ( \n",
    "'https://www.materialsproject.org/rest/v2/tasks/mp-804/potcar?API_KEY=rNLdA4JmwdI5kSuHHr1r'\n",
    ")\n",
    "response = requests.get(url)\n",
    "data = response.json()['response'][0]\n",
    "\n",
    "potcar = data['potcar']"
   ]
  },
  {
   "cell_type": "code",
   "execution_count": null,
   "metadata": {},
   "outputs": [],
   "source": [
    "setups = {}\n",
    "for setup in [i.split(\"_\") for i in potcar]:\n",
    "    if len(setup) > 1:\n",
    "        setups[setup[0]] = '_'+setup[1]\n",
    "    else:\n",
    "        setups[setup[0]] = ''\n",
    "        \n",
    "print(setups)"
   ]
  },
  {
   "cell_type": "markdown",
   "metadata": {},
   "source": [
    "# Functions"
   ]
  },
  {
   "cell_type": "code",
   "execution_count": null,
   "metadata": {},
   "outputs": [],
   "source": [
    "def do_request(_id):\n",
    "    # Setup query urls\n",
    "    url_head = 'https://www.materialsproject.org/rest/v2/'\n",
    "    url_tail = '?API_KEY=rNLdA4JmwdI5kSuHHr1r'\n",
    "    url_structure_init = 'materials/mp-{}/vasp/initial_structure'.format(_id)\n",
    "    url_structure_final = 'materials/mp-{}/vasp/final_structure'.format(_id)\n",
    "    url_potcar = 'tasks/mp-{}/potcar'.format(_id)\n",
    "\n",
    "    # Structure Query and Extraction\n",
    "    url = url_head+url_structure+url_tail\n",
    "    response = requests.get(url)\n",
    "    try:\n",
    "        data = response.json()['response'][0]\n",
    "        \n",
    "        # Build cell\n",
    "        structure = data['structure']\n",
    "        cell = structure['lattice']\n",
    "        cell\n",
    "        a = cell['a']\n",
    "        b = cell['b']\n",
    "        c = cell['c']\n",
    "        alpha = cell['alpha']\n",
    "        beta = cell['beta']\n",
    "        gamma = cell['gamma']\n",
    "        volume = cell['volume']\n",
    "\n",
    "        system = ase.Atoms()\n",
    "        system.set_cell([a,b,c,alpha,beta,gamma])\n",
    "        system.set_pbc(True)\n",
    "        \n",
    "        # Add atoms\n",
    "        sites = structure['sites']\n",
    "\n",
    "        for site in sites:\n",
    "            species = site['label']\n",
    "            pos = site['xyz']\n",
    "            try:\n",
    "                magmom = site['properties']['magmom']\n",
    "            except KeyError:\n",
    "                magmom = 0.\n",
    "            system.append(ase.Atom(species,pos,magmom=magmom))\n",
    "            \n",
    "    except IndexError:\n",
    "        #print('ID {} not valid.'.format(id))\n",
    "        return None# Don't do Potcar query, bc id not valid\n",
    "\n",
    "    # Potcar Query and Extraction\n",
    "    url = url_head+url_potcar+url_tail\n",
    "    response = requests.get(url)\n",
    "    try:\n",
    "        data = response.json()['response'][0]\n",
    "        potcar = data['potcar']\n",
    "        setups = {}\n",
    "        for setup in [i.split(\"_\") for i in potcar]:\n",
    "            if len(setup) > 1:\n",
    "                setups[setup[0]] = '_'+setup[1]\n",
    "            else:\n",
    "                setups[setup[0]] = ''\n",
    "    except IndexError:\n",
    "        print('Unable to find POTCAR information for with ID {}.'.format(id))\n",
    "        return None\n",
    "        \n",
    "    return system, setups\n",
    "\n",
    "def collect_bench_set(_id):\n",
    "    key = 'mp-{}'.format(_id)\n",
    "    try:\n",
    "        sys, setups = do_request(_id)\n",
    "        entry = {'structure':sys,'potcar':setups}\n",
    "    except TypeError:\n",
    "        entry = {'error': 'Bad ID'}\n",
    "    \n",
    "    return key,entry"
   ]
  },
  {
   "cell_type": "markdown",
   "metadata": {},
   "source": [
    "# Collect Bench Set"
   ]
  },
  {
   "cell_type": "code",
   "execution_count": null,
   "metadata": {},
   "outputs": [],
   "source": [
    "bench_set = {}\n",
    "ids = np.arange(900)\n",
    "errors = []\n",
    "\n",
    "for _id in ids:\n",
    "    if _id%25 == 0:\n",
    "        print('{} of {}'.format(_id,len(ids)))\n",
    "    try:\n",
    "        key,entry = collect_bench_set(_id)\n",
    "        bench_set[key] = entry\n",
    "    except:\n",
    "        errors.append(_id)\n"
   ]
  },
  {
   "cell_type": "code",
   "execution_count": null,
   "metadata": {},
   "outputs": [],
   "source": []
  }
 ],
 "metadata": {
  "kernelspec": {
   "display_name": "Python 3",
   "language": "python",
   "name": "python3"
  },
  "language_info": {
   "codemirror_mode": {
    "name": "ipython",
    "version": 3
   },
   "file_extension": ".py",
   "mimetype": "text/x-python",
   "name": "python",
   "nbconvert_exporter": "python",
   "pygments_lexer": "ipython3",
   "version": "3.7.3"
  },
  "toc": {
   "base_numbering": 1,
   "nav_menu": {},
   "number_sections": true,
   "sideBar": true,
   "skip_h1_title": false,
   "title_cell": "Table of Contents",
   "title_sidebar": "Contents",
   "toc_cell": true,
   "toc_position": {},
   "toc_section_display": true,
   "toc_window_display": true
  }
 },
 "nbformat": 4,
 "nbformat_minor": 2
}
