{
 "cells": [
  {
   "cell_type": "code",
   "execution_count": 1,
   "metadata": {},
   "outputs": [],
   "source": [
    "import os\n",
    "import logging\n",
    "import numpy as np\n",
    "from ase.calculators.vasp import Vasp2\n",
    "from ase.io import read\n",
    "\n",
    "out_dir = \"test\"\n",
    "if not os.path.isdir(out_dir+\"log\"):\n",
    "    os.system(\"mkdir -p {}/log\".format(out_dir))\n",
    "\n",
    "logging.basicConfig(format='%(asctime)s : %(message)s', datefmt='%m/%d/%Y %I:%M:%S %p',\n",
    "               filename=out_dir+\"/log/valet.log\", filemode=\"w\",level=logging.INFO)  "
   ]
  },
  {
   "cell_type": "code",
   "execution_count": 2,
   "metadata": {},
   "outputs": [],
   "source": [
    "class ValetJob:\n",
    "    def __init__(self,POSCAR_init):\n",
    "        \n",
    "        if os.path.isfile(POSCAR_init):\n",
    "            self.poscar_init = POSCAR_init\n",
    "        else:\n",
    "            logging.error(\"Cannot locate POSCAR file as {}\".format(POSCAR_init))\n",
    "            print(\"ERROR: See log for error.\")\n",
    "            exit()\n",
    "        self.encut = None\n",
    "        self.poscar_vol = None\n",
    "        self.poscar_opt = None\n",
    "        self.band_structure = None\n",
    "        self.band_gap = None\n",
    "        \n",
    "    def set_encut_autotune_params(self,tol=None,max_steps=None,start_encut=None,encut_step=None):\n",
    "        stop = False\n",
    "        ens = []\n",
    "        cnt = 0\n",
    "        return tol,stop,cnt,max_steps,start_encut,encut_step,ens\n",
    "    \n",
    "    def check_stop(self,x,tol):\n",
    "        perc_diff = lambda x,y: np.abs(np.abs(x-y)/((x+y)/2))*100\n",
    "        if len(x) < 2:\n",
    "            return False\n",
    "        elif perc_diff(x[-1],x[-2]) < tol:\n",
    "            return True\n",
    "        else: \n",
    "            return False\n",
    "        \n",
    "    def do_encut_autotune(self,tol=1E-4,max_steps=32,start_encut=200,encut_step=25,retune=False):\n",
    "        logging.info(\"Commencing with ENCUT autotune.\")\n",
    "        if (self.encut == None) or (retune):\n",
    "            sys = read(self.poscar_init)\n",
    "            calc = Vasp2(xc='PBE',kpts=(4,4,4),directory=out_dir,atoms=sys)\n",
    "            tol,stop,cnt,max_steps,ENCUT,ENCUT_step,ens = self.set_encut_autotune_params(tol=tol,max_steps=max_steps,\n",
    "                                                                                         start_encut=start_encut,\n",
    "                                                                                         encut_step=encut_step)\n",
    "\n",
    "            print(\"Autotuning ENCUT...\")\n",
    "            while not stop:\n",
    "                if 'error' in locals():\n",
    "                    del error\n",
    "                if cnt < max_steps:\n",
    "                    logging.debug(\"Count {}\".format(cnt))\n",
    "                    calc.set(encut=ENCUT)\n",
    "                    ens.append(sys.get_potential_energy())\n",
    "                    #print(ENCUT)\n",
    "                    stop = self.check_stop(ens,tol)\n",
    "                    ENCUT += ENCUT_step\n",
    "                    cnt += 1\n",
    "                else:\n",
    "                    logging.debug(\"Maximum autotune steps reached.\")\n",
    "                    error = \"Maximum autotune steps reached.\"\n",
    "                    tip = \"Tip: Increase either start_encut, encut_step, or max_steps. Decrease tol.\"\n",
    "                    stop = True\n",
    "\n",
    "            os.system(\"rm {}/*\".format(out_dir))\n",
    "            try:\n",
    "                print(error)\n",
    "                print(tip)\n",
    "                self.encut = None\n",
    "            except NameError:\n",
    "                print(\"\\tENCUT auto-tuned to: {}\".format(ENCUT))\n",
    "                logging.info(\"Completed ENCUT autotune.\")\n",
    "                self.encut = ENCUT\n",
    "            print(\"Done.\")  \n",
    "        else:\n",
    "            print(\"Already tuned.\")\n",
    "        logging.info(\"Completed ENCUT autotune.\")"
   ]
  },
  {
   "cell_type": "code",
   "execution_count": 3,
   "metadata": {},
   "outputs": [],
   "source": [
    "a = ValetJob(\"POSCAR.mp-27_Si\")"
   ]
  },
  {
   "cell_type": "code",
   "execution_count": 4,
   "metadata": {
    "scrolled": true
   },
   "outputs": [
    {
     "name": "stdout",
     "output_type": "stream",
     "text": [
      "None\n",
      "Autotuning ENCUT...\n",
      "\tENCUT auto-tuned to: 725\n",
      "Done.\n"
     ]
    }
   ],
   "source": [
    "print(a.encut)\n",
    "a.do_encut_autotune()"
   ]
  },
  {
   "cell_type": "code",
   "execution_count": 5,
   "metadata": {
    "scrolled": true
   },
   "outputs": [
    {
     "name": "stdout",
     "output_type": "stream",
     "text": [
      "Already tuned.\n"
     ]
    }
   ],
   "source": [
    "a.do_encut_autotune()"
   ]
  },
  {
   "cell_type": "code",
   "execution_count": 8,
   "metadata": {},
   "outputs": [
    {
     "name": "stdout",
     "output_type": "stream",
     "text": [
      "Autotuning ENCUT...\n",
      "\tENCUT auto-tuned to: 720\n",
      "Done.\n"
     ]
    }
   ],
   "source": [
    "a.do_encut_autotune(start_encut=700,encut_step=10,retune=True)"
   ]
  },
  {
   "cell_type": "code",
   "execution_count": null,
   "metadata": {},
   "outputs": [],
   "source": []
  }
 ],
 "metadata": {
  "kernelspec": {
   "display_name": "Python 3",
   "language": "python",
   "name": "python3"
  },
  "language_info": {
   "codemirror_mode": {
    "name": "ipython",
    "version": 3
   },
   "file_extension": ".py",
   "mimetype": "text/x-python",
   "name": "python",
   "nbconvert_exporter": "python",
   "pygments_lexer": "ipython3",
   "version": "3.5.0"
  }
 },
 "nbformat": 4,
 "nbformat_minor": 2
}
