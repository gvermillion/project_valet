{
 "cells": [
  {
   "cell_type": "code",
   "execution_count": 1,
   "metadata": {},
   "outputs": [],
   "source": [
    "import os\n",
    "import logging\n",
    "import numpy as np\n",
    "from ase.calculators.vasp import Vasp2\n",
    "from ase.io import read,write\n",
    "from ase.eos import EquationOfState\n",
    "from ase.io import jsonio\n",
    "\n",
    "\n"
   ]
  },
  {
   "cell_type": "code",
   "execution_count": 60,
   "metadata": {
    "scrolled": true
   },
   "outputs": [],
   "source": [
    "class ValetJob:\n",
    "    \n",
    "    \n",
    "    def __init__(self,POSCAR_init=None,path_out=None,kpts=None,calculators=None):\n",
    "        # Initial structure handling\n",
    "        if POSCAR_init == None:\n",
    "            print(\"Please provide an initial structure file.\")\n",
    "            exit()\n",
    "        elif os.path.isfile(POSCAR_init):\n",
    "            self.poscar_init = POSCAR_init\n",
    "            self.system = read(self.poscar_init)\n",
    "        else:\n",
    "            logging.error(\"Cannot locate POSCAR file as {}\".format(POSCAR_init))\n",
    "            self.error_read_log()\n",
    "            exit()\n",
    "            \n",
    "        # Setting up some paths\n",
    "        if path_out == None:\n",
    "            print(\"Please enter a valid out directory.\")\n",
    "            exit()\n",
    "        else:\n",
    "            self.path_out = os.path.join(\"valet_jobs\",path_out)\n",
    "            self.path_log = os.path.join(self.path_out,\"log\")\n",
    "            self.poscar_vol = os.path.join(self.path_out,\"POSCAR_vol\")\n",
    "        \n",
    "        # Check if user supplied kpoints\n",
    "        if kpts != None:\n",
    "            self.kpts = kpts\n",
    "        else:\n",
    "            self.kpts = [4,4,4]\n",
    "            \n",
    "        # Check if user supplied calculators\n",
    "        self.calc_dict = {'encut':Vasp2(xc='PBE',kpts=self.kpts,gamma=True,directory=self.path_out),\n",
    "                          'volume':Vasp2(xc='PBE',kpts=self.kpts,gamma=True,directory=self.path_out)}\n",
    "        if calculators != None:\n",
    "            print(\"Attaching your calculators.\")\n",
    "            if type(calculators) != type({}):\n",
    "                logging.error(\"Calculators should be provided in dictionary form. The relevant keys are 'encut', \\\n",
    "                              'volume', ....more to come.\")\n",
    "                self.error_read_log()\n",
    "                exit()\n",
    "            else:\n",
    "                for key in calculators.keys():\n",
    "                    self.calc_dict[key] = calculators[key]\n",
    "                    self.calc_dict[key].set(directory=self.path_out) # Make sure output path is correct\n",
    "        else:\n",
    "            print(\"Loading default calculators.\")\n",
    "    \n",
    "        \n",
    "        \n",
    "            \n",
    "        # Initialize the rest of the attributes\n",
    "        self.encut = None\n",
    "        self.band_structure = None\n",
    "        self.band_gap = None\n",
    "        \n",
    "        # Make output directory\n",
    "        if not os.path.isdir(self.path_log):\n",
    "            os.system(\"mkdir -p {}/\".format(self.path_log))\n",
    "        # Start log\n",
    "        logging.basicConfig(format='%(asctime)s : %(message)s', datefmt='%m/%d/%Y %I:%M:%S %p',\n",
    "               filename=os.path.join(self.path_log,\"valet.log\"), filemode=\"w\",level=logging.INFO)  \n",
    "      \n",
    "    def error_read_log(self):\n",
    "        print(\"ERROR: See log for error.\")\n",
    "    \n",
    "    def clean_up(self):\n",
    "        os.system(\"cd {}; rm ase* C* D* E* I* K* O* PC* POSCAR POT* vaspr* WA* X*\".format(self.path_out))\n",
    "    \n",
    "    def set_encut_autotune_params(self,tol=None,max_steps=None,start_encut=None,encut_step=None):\n",
    "        stop = False\n",
    "        ens = []\n",
    "        cnt = 0\n",
    "        return tol,stop,cnt,max_steps,start_encut,encut_step,ens\n",
    "    \n",
    "    def check_stop(self,x,tol):\n",
    "        perc_diff = lambda x,y: np.abs(np.abs(x-y)/((x+y)/2))*100\n",
    "        if len(x) < 2:\n",
    "            return False\n",
    "        elif perc_diff(x[-1],x[-2]) < tol:\n",
    "            return True\n",
    "        else: \n",
    "            return False\n",
    "        \n",
    "    def do_encut_autotune(self,tol=1E-4,max_steps=32,start_encut=200,encut_step=25,retune=False):\n",
    "        logging.info(\"Commencing with ENCUT autotune.\")\n",
    "        if (self.encut == None) or (retune):\n",
    "            sys = read(self.poscar_init)\n",
    "            calc = Vasp2(xc='PBE',kpts=(4,4,4),directory=self.path_out)\n",
    "            tol,stop,cnt,max_steps,ENCUT,ENCUT_step,ens = self.set_encut_autotune_params(tol=tol,max_steps=max_steps,\n",
    "                                                                                         start_encut=start_encut,\n",
    "                                                                                         encut_step=encut_step)\n",
    "\n",
    "            print(\"Autotuning ENCUT...\")\n",
    "            while not stop:\n",
    "                if 'error' in locals():\n",
    "                    del error\n",
    "                if cnt < max_steps:\n",
    "                    logging.debug(\"Count {}\".format(cnt))\n",
    "                    calc.set(encut=ENCUT)\n",
    "                    sys.set_calculator(calc)\n",
    "                    ens.append(sys.get_potential_energy())\n",
    "                    stop = self.check_stop(ens,tol)\n",
    "                    ENCUT += ENCUT_step\n",
    "                    cnt += 1\n",
    "                else:\n",
    "                    logging.debug(\"Maximum autotune steps reached.\")\n",
    "                    error = \"Maximum autotune steps reached.\"\n",
    "                    tip = \"Tip: Increase either start_encut, encut_step, or max_steps. Decrease tol.\"\n",
    "                    stop = True\n",
    "\n",
    "            try:\n",
    "                print(error)\n",
    "                print(tip)\n",
    "                self.encut = None\n",
    "            except NameError:\n",
    "                print(\"\\tENCUT auto-tuned to: {}\".format(ENCUT))\n",
    "                logging.info(\"Completed ENCUT autotune.\")\n",
    "                self.encut = ENCUT\n",
    "            print(\"Done.\")  \n",
    "        else:\n",
    "            print(\"ENCUT already autotuned. If you would like to retune, please pass 'retune' as True to 'self.do_encut_autotune'.\")\n",
    "            logging.info(\"Already autotuned ENCUT.\")\n",
    "            \n",
    "        self.clean_up()\n",
    "        \n",
    "    def set_volume_autotune_params(self,start_scan=None,end_scan=None,num_scans=None,exclude_type=None,only_type=None):\n",
    "        vols = []\n",
    "        ens = []\n",
    "        return start_scan,end_scan,num_scans,exclude_type,only_type,vols,ens\n",
    "\n",
    "    def do_volume_autotune(self,encut=None,start_scan=0.85,end_scan=1.15,num_scans=15,exclude_type=None,only_type=None):\n",
    "        if not os.path.isfile(self.poscar_vol):\n",
    "            encut = encut if encut!=None else self.do_encut_autotune()\n",
    "\n",
    "            logging.info(\"Commencing volume scan...\")\n",
    "            print(\"Determining optimal volume...\")\n",
    "            start_scan,end_scan,num_scans,exclude_type,only_type,vols,ens = self.set_volume_autotune_params(\n",
    "                start_scan=start_scan,end_scan=end_scan,num_scans=num_scans,exclude_type=exclude_type,\n",
    "                only_type=only_type)\n",
    "\n",
    "\n",
    "            # Load POSCAR\n",
    "            try:\n",
    "                sys = read(self.poscar_init)\n",
    "                calc = self.calc_dict['volume']\n",
    "                calc.set(encut=encut)\n",
    "                start_cell = sys.get_cell()\n",
    "            except:\n",
    "                logging.error(\"Initial POSCAR file could not be found at {}\".format(poscar_init))\n",
    "                print(\"Error: See error log for details.\")\n",
    "                return None\n",
    "            logging.info(\"Loaded initial POSCAR file.\")\n",
    "\n",
    "            # Do volume scan\n",
    "            logging.info(\"Performing volume scan.\")\n",
    "            for x in np.linspace(start_scan,end_scan,num_scans):\n",
    "                sys.set_cell(x*start_cell,scale_atoms=True)\n",
    "                sys.set_calculator(calc)\n",
    "                ens.append(sys.get_potential_energy())\n",
    "                vols.append(sys.get_volume())\n",
    "            logging.info(\"Volume scan complete.\")\n",
    "\n",
    "            # Fit EoS\n",
    "            logging.info(\"Fitting equations of state.\")\n",
    "            eos_types = \"sjeos taylor murnaghan birch birchmurnaghan pouriertarantola p3 antonschmidt\".split()\n",
    "\n",
    "            if exclude_type != None:\n",
    "                _ = [eos_types.remove(i) for i in exclude]\n",
    "            elif only_type != None:\n",
    "                eos_types = only_type\n",
    "\n",
    "            \n",
    "            \n",
    "            eos_fits = {}\n",
    "            for typ in eos_types:\n",
    "                eos = EquationOfState(vols,ens,eos=typ)\n",
    "                v, e, B = eos.fit()\n",
    "                eos_fits[typ] = {'volume':v,'energy':e,'buld_modulus':B}\n",
    "\n",
    "            # Rescale initial cell to optimized volume\n",
    "            logging.info(\"Optimal volume found. Rescaling original cell.\")\n",
    "            vol_avg = np.average([eos_fits[key]['volume'] for key in eos_fits.keys()])\n",
    "            sys.set_cell(start_cell,scale_atoms=True)\n",
    "\n",
    "            scale = sys.get_volume()/vol_avg\n",
    "            sys.set_cell(scale*start_cell,scale_atoms=True)\n",
    "\n",
    "            # Perform sc-step\n",
    "            logging.info(\"Performing self-consistent step.\")\n",
    "            sys.set_calculator(calc)\n",
    "            en = sys.get_potential_energy()\n",
    "\n",
    "            # Save structure\n",
    "            logging.info(\"Saving self-consistent calculator.\")\n",
    "            write(self.poscar_vol,sys)\n",
    "\n",
    "            print(\"Done.\")\n",
    "            logging.info(\"Volume scan complete.\")\n",
    "            self.clean_up()\n",
    "        else:\n",
    "            sys = read(self.poscar_vol)\n",
    "            print(\"Volume optimized system ready.\")\n",
    "        "
   ]
  },
  {
   "cell_type": "code",
   "execution_count": 77,
   "metadata": {},
   "outputs": [
    {
     "name": "stdout",
     "output_type": "stream",
     "text": [
      "Attaching your calculators.\n"
     ]
    }
   ],
   "source": [
    "my_calcs = {'volume':Vasp2(xc='PBE',kpts=(2,2,2),setups={'Si':'_h'})}\n",
    "a = ValetJob(\"POSCAR.mp-27_Si\",\"auto_test\",calculators=my_calcs)"
   ]
  },
  {
   "cell_type": "code",
   "execution_count": 78,
   "metadata": {
    "scrolled": true
   },
   "outputs": [
    {
     "name": "stdout",
     "output_type": "stream",
     "text": [
      "Autotuning ENCUT...\n",
      "\tENCUT auto-tuned to: 800\n",
      "Done.\n"
     ]
    }
   ],
   "source": [
    "a.do_encut_autotune(start_encut=700)"
   ]
  },
  {
   "cell_type": "code",
   "execution_count": 79,
   "metadata": {},
   "outputs": [
    {
     "name": "stdout",
     "output_type": "stream",
     "text": [
      "ENCUT already autotuned. If you would like to retune, please pass 'retune' as True to 'self.do_encut_autotune'.\n",
      "Determining optimal volume...\n",
      "Done.\n"
     ]
    }
   ],
   "source": [
    "a.do_volume_autotune()"
   ]
  },
  {
   "cell_type": "code",
   "execution_count": 80,
   "metadata": {},
   "outputs": [
    {
     "data": {
      "text/plain": [
       "57.937466768625676"
      ]
     },
     "execution_count": 80,
     "metadata": {},
     "output_type": "execute_result"
    }
   ],
   "source": [
    "a.system.get_volume()"
   ]
  },
  {
   "cell_type": "code",
   "execution_count": 69,
   "metadata": {},
   "outputs": [
    {
     "data": {
      "text/plain": [
       "57.937466768625676"
      ]
     },
     "execution_count": 69,
     "metadata": {},
     "output_type": "execute_result"
    }
   ],
   "source": [
    "a.system.get_volume()"
   ]
  },
  {
   "cell_type": "code",
   "execution_count": 31,
   "metadata": {},
   "outputs": [],
   "source": [
    "class Test: \n",
    "    \n",
    "    def __init__(self,calculators=None):\n",
    "        if calculators != None:\n",
    "            print(\"Attaching your calculators.\")\n",
    "        else:\n",
    "            print(\"Loading default calculators.\")\n",
    "    \n",
    "        \n",
    "        #self.calc_dict = {'encut':Vasp2(xc='PBE',kpts=self.kpts,gamma=True,directory=self.path_out),\n",
    "         #'volume':Vasp2(xc='PBE',kpts=self.kpts,directory=self.path_out)}\n"
   ]
  },
  {
   "cell_type": "code",
   "execution_count": 52,
   "metadata": {},
   "outputs": [
    {
     "name": "stdout",
     "output_type": "stream",
     "text": [
      "Calculators should be provided in dictionary form. The relevant keys are 'encut', 'volume',           ....more to come.\n"
     ]
    },
    {
     "data": {
      "text/plain": [
       "{'encut': <ase.calculators.vasp.vasp2.Vasp2 at 0x2ba0db133e48>,\n",
       " 'volume': <ase.calculators.vasp.vasp2.Vasp2 at 0x2ba0db133c18>}"
      ]
     },
     "execution_count": 52,
     "metadata": {},
     "output_type": "execute_result"
    }
   ],
   "source": [
    "calculators = {'volume':Vasp2()}\n",
    "calc_dict = {'encut':Vasp2(xc='PBE',kpts=4,gamma=True),\n",
    "             'volume':Vasp2(xc='PBE',kpts=4)}\n",
    "\n",
    "        \n",
    "calc_dict"
   ]
  },
  {
   "cell_type": "code",
   "execution_count": 50,
   "metadata": {},
   "outputs": [
    {
     "data": {
      "text/plain": [
       "'path'"
      ]
     },
     "execution_count": 50,
     "metadata": {},
     "output_type": "execute_result"
    }
   ],
   "source": [
    "calc_dict['volume'].directory"
   ]
  },
  {
   "cell_type": "code",
   "execution_count": null,
   "metadata": {},
   "outputs": [],
   "source": []
  }
 ],
 "metadata": {
  "kernelspec": {
   "display_name": "Python 3",
   "language": "python",
   "name": "python3"
  },
  "language_info": {
   "codemirror_mode": {
    "name": "ipython",
    "version": 3
   },
   "file_extension": ".py",
   "mimetype": "text/x-python",
   "name": "python",
   "nbconvert_exporter": "python",
   "pygments_lexer": "ipython3",
   "version": "3.5.0"
  }
 },
 "nbformat": 4,
 "nbformat_minor": 2
}
